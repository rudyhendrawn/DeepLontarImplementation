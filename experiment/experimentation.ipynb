{
 "cells": [
  {
   "cell_type": "code",
   "execution_count": 3,
   "metadata": {},
   "outputs": [],
   "source": [
    "# Create a method to split the dataset into train and test set\n",
    "def split_dataset(dataset, train_ratio=0.8):\n",
    "\t\"\"\"\n",
    "\tFunction that can be used to split the dataset into train and test set.\n",
    "\tArgs:\n",
    "\t\tdataset (DeepLontarDataset): Dataset to split\n",
    "\t\ttrain_ratio (float): Ratio of the dataset to use for training\n",
    "\tReturns:\n",
    "\t\ttrain_dataset (DeepLontarDataset): Training dataset\n",
    "\t\ttest_dataset (DeepLontarDataset): Test dataset\n",
    "\t\"\"\"\n",
    "\ttrain_size = int(train_ratio * len(dataset))\n",
    "\ttest_size = len(dataset) - train_size\n",
    "\ttrain_dataset, test_dataset = torch.utils.data.random_split(dataset, [train_size, test_size])\n",
    "\treturn train_dataset, test_dataset"
   ]
  },
  {
   "cell_type": "code",
   "execution_count": null,
   "metadata": {},
   "outputs": [],
   "source": []
  }
 ],
 "metadata": {
  "kernelspec": {
   "display_name": "pytorch",
   "language": "python",
   "name": "python3"
  },
  "language_info": {
   "codemirror_mode": {
    "name": "ipython",
    "version": 3
   },
   "file_extension": ".py",
   "mimetype": "text/x-python",
   "name": "python",
   "nbconvert_exporter": "python",
   "pygments_lexer": "ipython3",
   "version": "3.10.9"
  },
  "orig_nbformat": 4,
  "vscode": {
   "interpreter": {
    "hash": "beadf95f16862a7393e5fa829bfbfa3e6e0a11534280b92e7d2b4d010105fa65"
   }
  }
 },
 "nbformat": 4,
 "nbformat_minor": 2
}
